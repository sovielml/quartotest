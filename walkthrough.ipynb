{
  "cells": [
    {
      "cell_type": "raw",
      "metadata": {},
      "source": [
        "---\n",
        "title: \"Hello, Quarto\"\n",
        "format: html\n",
        "---"
      ],
      "id": "3de625b1"
    },
    {
      "cell_type": "markdown",
      "metadata": {},
      "source": [
        "## Markdown\n",
        "\n",
        "Markdown is an easy to read and write text format:\n",
        "\n",
        "- It's _plain text_ so works well with version control\n",
        "- It can be **rendered** into HTML, PDF, and more\n",
        "- Learn more at: <https://quarto.org/docs/authoring/>\n",
        "\n",
        "## Code Cell\n",
        "\n",
        "Here is a Python code cell:\n"
      ],
      "id": "95fef9c3"
    },
    {
      "cell_type": "code",
      "metadata": {},
      "source": [
        "from gradio_client import Client\n",
        "\n",
        "client = Client(\"https://fffiloni-image-to-story.hf.space/\")\n",
        "result = client.predict(\n",
        "\t\t\t\t\"https://raw.githubusercontent.com/gradio-app/gradio/main/test/test_files/bus.png\",\t# str (filepath or URL to image) in 'Image input' Image component\n",
        "\t\t\t\t\"Children\",\t# str in 'Target Audience' Radio component\n",
        "\t\t\t\tfn_index=1\n",
        ")\n",
        "print(result)"
      ],
      "id": "3e73488c",
      "execution_count": null,
      "outputs": []
    },
    {
      "cell_type": "markdown",
      "metadata": {},
      "source": [
        "## Equation\n",
        "\n",
        "Use LaTeX to write equations:\n",
        "\n",
        "$$\n",
        "\\chi' = \\sum_{i=2}^n k_i s_i^2\n",
        "$$"
      ],
      "id": "a243b7da"
    }
  ],
  "metadata": {
    "kernelspec": {
      "name": "python3",
      "language": "python",
      "display_name": "Python 3 (ipykernel)"
    }
  },
  "nbformat": 4,
  "nbformat_minor": 5
}